{
  "nbformat": 4,
  "nbformat_minor": 0,
  "metadata": {
    "colab": {
      "name": "thesis_lstm.ipynb",
      "provenance": [],
      "collapsed_sections": []
    },
    "kernelspec": {
      "name": "python3",
      "display_name": "Python 3"
    },
    "accelerator": "TPU"
  },
  "cells": [
    {
      "cell_type": "code",
      "metadata": {
        "id": "esFQHHUNKbqb",
        "colab_type": "code",
        "colab": {}
      },
      "source": [
        "import numpy as np\n",
        "import pandas as pd\n",
        "from sklearn.preprocessing import StandardScaler\n",
        "from sklearn.model_selection import train_test_split\n",
        "import random, math, os, time"
      ],
      "execution_count": 0,
      "outputs": []
    },
    {
      "cell_type": "code",
      "metadata": {
        "id": "zdRJ672gKgOc",
        "colab_type": "code",
        "colab": {}
      },
      "source": [
        "SEED = 1234\n",
        "random.seed(SEED)"
      ],
      "execution_count": 0,
      "outputs": []
    },
    {
      "cell_type": "code",
      "metadata": {
        "id": "cT4xzZAYXv5y",
        "colab_type": "code",
        "colab": {}
      },
      "source": [
        "import matplotlib.pyplot as plt\n"
      ],
      "execution_count": 0,
      "outputs": []
    },
    {
      "cell_type": "code",
      "metadata": {
        "id": "nf-OIx9CKhjC",
        "colab_type": "code",
        "colab": {}
      },
      "source": [
        "filepath = 'https://raw.githubusercontent.com/vishal-pandey/SSIM/master/SSIM/data/simplified_PM25.csv'\n",
        "df = pd.read_csv(filepath, dayfirst=True)"
      ],
      "execution_count": 0,
      "outputs": []
    },
    {
      "cell_type": "code",
      "metadata": {
        "id": "OJqQV7NVLS3w",
        "colab_type": "code",
        "colab": {}
      },
      "source": [
        "train_sampling_params = {\n",
        "    'dim_in': 11,\n",
        "    'output_length': 5,\n",
        "    'min_before': 20,\n",
        "    'max_before': 25,\n",
        "    'min_after': 20,\n",
        "    'max_after': 25,\n",
        "}"
      ],
      "execution_count": 0,
      "outputs": []
    },
    {
      "cell_type": "code",
      "metadata": {
        "id": "_iEGE-UkMVsj",
        "colab_type": "code",
        "colab": {}
      },
      "source": [
        "test_sampling_params = {\n",
        "  'dim_in': 11,\n",
        "  'output_length': 5,\n",
        "  'min_before': 20,\n",
        "  'max_before': 25,\n",
        "  'min_after': 20,\n",
        "  'max_after': 25,\n",
        "}"
      ],
      "execution_count": 0,
      "outputs": []
    },
    {
      "cell_type": "code",
      "metadata": {
        "id": "gQb36AFFKj-q",
        "colab_type": "code",
        "outputId": "e63ebe6b-4fd9-4a70-fdb0-10692b142a90",
        "colab": {
          "base_uri": "https://localhost:8080/",
          "height": 204
        }
      },
      "source": [
        "df.head()"
      ],
      "execution_count": 7,
      "outputs": [
        {
          "output_type": "execute_result",
          "data": {
            "text/html": [
              "<div>\n",
              "<style scoped>\n",
              "    .dataframe tbody tr th:only-of-type {\n",
              "        vertical-align: middle;\n",
              "    }\n",
              "\n",
              "    .dataframe tbody tr th {\n",
              "        vertical-align: top;\n",
              "    }\n",
              "\n",
              "    .dataframe thead th {\n",
              "        text-align: right;\n",
              "    }\n",
              "</style>\n",
              "<table border=\"1\" class=\"dataframe\">\n",
              "  <thead>\n",
              "    <tr style=\"text-align: right;\">\n",
              "      <th></th>\n",
              "      <th>date</th>\n",
              "      <th>pm2.5</th>\n",
              "      <th>DEWP</th>\n",
              "      <th>TEMP</th>\n",
              "      <th>PRES</th>\n",
              "      <th>Iws</th>\n",
              "      <th>Is</th>\n",
              "      <th>Ir</th>\n",
              "      <th>winddirect_0</th>\n",
              "      <th>winddirect_1</th>\n",
              "      <th>winddirect_2</th>\n",
              "      <th>winddirect_3</th>\n",
              "    </tr>\n",
              "  </thead>\n",
              "  <tbody>\n",
              "    <tr>\n",
              "      <th>0</th>\n",
              "      <td>2/01/2010 0:00</td>\n",
              "      <td>129</td>\n",
              "      <td>-16</td>\n",
              "      <td>-4.0</td>\n",
              "      <td>1020.0</td>\n",
              "      <td>1.79</td>\n",
              "      <td>0</td>\n",
              "      <td>0</td>\n",
              "      <td>0</td>\n",
              "      <td>0</td>\n",
              "      <td>1</td>\n",
              "      <td>0</td>\n",
              "    </tr>\n",
              "    <tr>\n",
              "      <th>1</th>\n",
              "      <td>2/01/2010 1:00</td>\n",
              "      <td>148</td>\n",
              "      <td>-15</td>\n",
              "      <td>-4.0</td>\n",
              "      <td>1020.0</td>\n",
              "      <td>2.68</td>\n",
              "      <td>0</td>\n",
              "      <td>0</td>\n",
              "      <td>0</td>\n",
              "      <td>0</td>\n",
              "      <td>1</td>\n",
              "      <td>0</td>\n",
              "    </tr>\n",
              "    <tr>\n",
              "      <th>2</th>\n",
              "      <td>2/01/2010 2:00</td>\n",
              "      <td>159</td>\n",
              "      <td>-11</td>\n",
              "      <td>-5.0</td>\n",
              "      <td>1021.0</td>\n",
              "      <td>3.57</td>\n",
              "      <td>0</td>\n",
              "      <td>0</td>\n",
              "      <td>0</td>\n",
              "      <td>0</td>\n",
              "      <td>1</td>\n",
              "      <td>0</td>\n",
              "    </tr>\n",
              "    <tr>\n",
              "      <th>3</th>\n",
              "      <td>2/01/2010 3:00</td>\n",
              "      <td>181</td>\n",
              "      <td>-7</td>\n",
              "      <td>-5.0</td>\n",
              "      <td>1022.0</td>\n",
              "      <td>5.36</td>\n",
              "      <td>1</td>\n",
              "      <td>0</td>\n",
              "      <td>0</td>\n",
              "      <td>0</td>\n",
              "      <td>1</td>\n",
              "      <td>0</td>\n",
              "    </tr>\n",
              "    <tr>\n",
              "      <th>4</th>\n",
              "      <td>2/01/2010 4:00</td>\n",
              "      <td>138</td>\n",
              "      <td>-7</td>\n",
              "      <td>-5.0</td>\n",
              "      <td>1022.0</td>\n",
              "      <td>6.25</td>\n",
              "      <td>2</td>\n",
              "      <td>0</td>\n",
              "      <td>0</td>\n",
              "      <td>0</td>\n",
              "      <td>1</td>\n",
              "      <td>0</td>\n",
              "    </tr>\n",
              "  </tbody>\n",
              "</table>\n",
              "</div>"
            ],
            "text/plain": [
              "             date  pm2.5  DEWP  ...  winddirect_1  winddirect_2  winddirect_3\n",
              "0  2/01/2010 0:00    129   -16  ...             0             1             0\n",
              "1  2/01/2010 1:00    148   -15  ...             0             1             0\n",
              "2  2/01/2010 2:00    159   -11  ...             0             1             0\n",
              "3  2/01/2010 3:00    181    -7  ...             0             1             0\n",
              "4  2/01/2010 4:00    138    -7  ...             0             1             0\n",
              "\n",
              "[5 rows x 12 columns]"
            ]
          },
          "metadata": {
            "tags": []
          },
          "execution_count": 7
        }
      ]
    },
    {
      "cell_type": "code",
      "metadata": {
        "id": "GCRV1BXYKnI6",
        "colab_type": "code",
        "colab": {}
      },
      "source": [
        "len(df[:5000])\n",
        "df = df[:5000]"
      ],
      "execution_count": 0,
      "outputs": []
    },
    {
      "cell_type": "code",
      "metadata": {
        "id": "FEZoD24g3OJo",
        "colab_type": "code",
        "outputId": "7d75a428-d08b-44eb-d9f4-17dda111abac",
        "colab": {
          "base_uri": "https://localhost:8080/",
          "height": 34
        }
      },
      "source": [
        "df.iloc[0, 1]"
      ],
      "execution_count": 9,
      "outputs": [
        {
          "output_type": "execute_result",
          "data": {
            "text/plain": [
              "129"
            ]
          },
          "metadata": {
            "tags": []
          },
          "execution_count": 9
        }
      ]
    },
    {
      "cell_type": "code",
      "metadata": {
        "id": "Xa-Wu-jrKo2a",
        "colab_type": "code",
        "outputId": "0edf279b-4179-430c-b83a-9408f77f0df7",
        "colab": {
          "base_uri": "https://localhost:8080/",
          "height": 85
        }
      },
      "source": [
        "print(df.iloc[0, 0])\n",
        "print(df.iloc[4000, 0])\n",
        "print(df.iloc[4001, 0])\n",
        "print(df.iloc[4999, 0])\n",
        "\n",
        "\n",
        "df.set_index('date', inplace=True)"
      ],
      "execution_count": 10,
      "outputs": [
        {
          "output_type": "stream",
          "text": [
            "2/01/2010 0:00\n",
            "17/06/2010 16:00\n",
            "17/06/2010 17:00\n",
            "29/07/2010 7:00\n"
          ],
          "name": "stdout"
        }
      ]
    },
    {
      "cell_type": "code",
      "metadata": {
        "id": "0iDB97mVKqA6",
        "colab_type": "code",
        "outputId": "150a946b-3821-4f3e-a727-52af005d2c76",
        "colab": {
          "base_uri": "https://localhost:8080/",
          "height": 235
        }
      },
      "source": [
        "df.head()"
      ],
      "execution_count": 11,
      "outputs": [
        {
          "output_type": "execute_result",
          "data": {
            "text/html": [
              "<div>\n",
              "<style scoped>\n",
              "    .dataframe tbody tr th:only-of-type {\n",
              "        vertical-align: middle;\n",
              "    }\n",
              "\n",
              "    .dataframe tbody tr th {\n",
              "        vertical-align: top;\n",
              "    }\n",
              "\n",
              "    .dataframe thead th {\n",
              "        text-align: right;\n",
              "    }\n",
              "</style>\n",
              "<table border=\"1\" class=\"dataframe\">\n",
              "  <thead>\n",
              "    <tr style=\"text-align: right;\">\n",
              "      <th></th>\n",
              "      <th>pm2.5</th>\n",
              "      <th>DEWP</th>\n",
              "      <th>TEMP</th>\n",
              "      <th>PRES</th>\n",
              "      <th>Iws</th>\n",
              "      <th>Is</th>\n",
              "      <th>Ir</th>\n",
              "      <th>winddirect_0</th>\n",
              "      <th>winddirect_1</th>\n",
              "      <th>winddirect_2</th>\n",
              "      <th>winddirect_3</th>\n",
              "    </tr>\n",
              "    <tr>\n",
              "      <th>date</th>\n",
              "      <th></th>\n",
              "      <th></th>\n",
              "      <th></th>\n",
              "      <th></th>\n",
              "      <th></th>\n",
              "      <th></th>\n",
              "      <th></th>\n",
              "      <th></th>\n",
              "      <th></th>\n",
              "      <th></th>\n",
              "      <th></th>\n",
              "    </tr>\n",
              "  </thead>\n",
              "  <tbody>\n",
              "    <tr>\n",
              "      <th>2/01/2010 0:00</th>\n",
              "      <td>129</td>\n",
              "      <td>-16</td>\n",
              "      <td>-4.0</td>\n",
              "      <td>1020.0</td>\n",
              "      <td>1.79</td>\n",
              "      <td>0</td>\n",
              "      <td>0</td>\n",
              "      <td>0</td>\n",
              "      <td>0</td>\n",
              "      <td>1</td>\n",
              "      <td>0</td>\n",
              "    </tr>\n",
              "    <tr>\n",
              "      <th>2/01/2010 1:00</th>\n",
              "      <td>148</td>\n",
              "      <td>-15</td>\n",
              "      <td>-4.0</td>\n",
              "      <td>1020.0</td>\n",
              "      <td>2.68</td>\n",
              "      <td>0</td>\n",
              "      <td>0</td>\n",
              "      <td>0</td>\n",
              "      <td>0</td>\n",
              "      <td>1</td>\n",
              "      <td>0</td>\n",
              "    </tr>\n",
              "    <tr>\n",
              "      <th>2/01/2010 2:00</th>\n",
              "      <td>159</td>\n",
              "      <td>-11</td>\n",
              "      <td>-5.0</td>\n",
              "      <td>1021.0</td>\n",
              "      <td>3.57</td>\n",
              "      <td>0</td>\n",
              "      <td>0</td>\n",
              "      <td>0</td>\n",
              "      <td>0</td>\n",
              "      <td>1</td>\n",
              "      <td>0</td>\n",
              "    </tr>\n",
              "    <tr>\n",
              "      <th>2/01/2010 3:00</th>\n",
              "      <td>181</td>\n",
              "      <td>-7</td>\n",
              "      <td>-5.0</td>\n",
              "      <td>1022.0</td>\n",
              "      <td>5.36</td>\n",
              "      <td>1</td>\n",
              "      <td>0</td>\n",
              "      <td>0</td>\n",
              "      <td>0</td>\n",
              "      <td>1</td>\n",
              "      <td>0</td>\n",
              "    </tr>\n",
              "    <tr>\n",
              "      <th>2/01/2010 4:00</th>\n",
              "      <td>138</td>\n",
              "      <td>-7</td>\n",
              "      <td>-5.0</td>\n",
              "      <td>1022.0</td>\n",
              "      <td>6.25</td>\n",
              "      <td>2</td>\n",
              "      <td>0</td>\n",
              "      <td>0</td>\n",
              "      <td>0</td>\n",
              "      <td>1</td>\n",
              "      <td>0</td>\n",
              "    </tr>\n",
              "  </tbody>\n",
              "</table>\n",
              "</div>"
            ],
            "text/plain": [
              "                pm2.5  DEWP  TEMP  ...  winddirect_1  winddirect_2  winddirect_3\n",
              "date                               ...                                          \n",
              "2/01/2010 0:00    129   -16  -4.0  ...             0             1             0\n",
              "2/01/2010 1:00    148   -15  -4.0  ...             0             1             0\n",
              "2/01/2010 2:00    159   -11  -5.0  ...             0             1             0\n",
              "2/01/2010 3:00    181    -7  -5.0  ...             0             1             0\n",
              "2/01/2010 4:00    138    -7  -5.0  ...             0             1             0\n",
              "\n",
              "[5 rows x 11 columns]"
            ]
          },
          "metadata": {
            "tags": []
          },
          "execution_count": 11
        }
      ]
    },
    {
      "cell_type": "code",
      "metadata": {
        "id": "IqtM_6wwKrih",
        "colab_type": "code",
        "colab": {}
      },
      "source": [
        "pm25 = df['pm2.5'].values.copy().reshape(-1, 1)"
      ],
      "execution_count": 0,
      "outputs": []
    },
    {
      "cell_type": "code",
      "metadata": {
        "id": "nw8nedAGKtV4",
        "colab_type": "code",
        "outputId": "56f1c2f5-38bb-4b27-8bbb-e60815dfbc96",
        "colab": {
          "base_uri": "https://localhost:8080/",
          "height": 34
        }
      },
      "source": [
        "scaler_x = StandardScaler()\n",
        "scaler_x.fit(df[['pm2.5', 'DEWP', 'TEMP', 'PRES', 'Iws', 'Is', 'Ir']])"
      ],
      "execution_count": 13,
      "outputs": [
        {
          "output_type": "execute_result",
          "data": {
            "text/plain": [
              "StandardScaler(copy=True, with_mean=True, with_std=True)"
            ]
          },
          "metadata": {
            "tags": []
          },
          "execution_count": 13
        }
      ]
    },
    {
      "cell_type": "code",
      "metadata": {
        "id": "Sg3EabLGKvNQ",
        "colab_type": "code",
        "colab": {}
      },
      "source": [
        "df[['pm2.5', 'DEWP', 'TEMP', 'PRES', 'Iws', 'Is', 'Ir']] = scaler_x.transform(df[['pm2.5', 'DEWP', 'TEMP', 'PRES', 'Iws', 'Is', 'Ir']])"
      ],
      "execution_count": 0,
      "outputs": []
    },
    {
      "cell_type": "code",
      "metadata": {
        "id": "wsCFEBY6KxUX",
        "colab_type": "code",
        "colab": {}
      },
      "source": [
        "scaler_y = StandardScaler()\n",
        "scaler_y.fit(pm25)\n",
        "y_all = scaler_y.transform(pm25)"
      ],
      "execution_count": 0,
      "outputs": []
    },
    {
      "cell_type": "code",
      "metadata": {
        "id": "aiHuv1SMK0EP",
        "colab_type": "code",
        "colab": {}
      },
      "source": [
        "df_train = df.loc['2/01/2010 0:00': '17/06/2010 16:00'].copy()\n",
        "df_test = df.loc['17/06/2010 17:00': '29/07/2010 7:00'].copy()"
      ],
      "execution_count": 0,
      "outputs": []
    },
    {
      "cell_type": "code",
      "metadata": {
        "id": "g-Aje_VNK2op",
        "colab_type": "code",
        "colab": {}
      },
      "source": [
        "y = y_all"
      ],
      "execution_count": 0,
      "outputs": []
    },
    {
      "cell_type": "code",
      "metadata": {
        "id": "SE2nqexWK4Q3",
        "colab_type": "code",
        "colab": {}
      },
      "source": [
        "def train_val_test_generate(dataframe, model_params):\n",
        "    '''\n",
        "    :param dataframe: processed dataframe\n",
        "    :param model_params: for input dim\n",
        "    :return: train_x, train_y, test_x, test_y with the same length (by padding zero)\n",
        "    '''\n",
        "\n",
        "    train_val_test_x, train_val_test_y, len_x_samples, len_before_x_samples = pad_all_cases(dataframe,\n",
        "                                                                                            dataframe['pm2.5'].values,\n",
        "                                                                                            model_params,\n",
        "                                                                                            model_params['min_before'],\n",
        "                                                                                            model_params['max_before'],\n",
        "                                                                                            model_params['min_after'],\n",
        "                                                                                            model_params['max_after'],\n",
        "                                                                                            model_params[\n",
        "                                                                                                'output_length'])\n",
        "\n",
        "    train_val_test_y = np.expand_dims(train_val_test_y, axis=2)\n",
        "\n",
        "    return train_val_test_x, train_val_test_y, len_x_samples, len_before_x_samples"
      ],
      "execution_count": 0,
      "outputs": []
    },
    {
      "cell_type": "code",
      "metadata": {
        "id": "nMrsAqS2K6V_",
        "colab_type": "code",
        "colab": {}
      },
      "source": [
        "\n",
        "def generate_samples(x, y, model_params, seq_len_before=7, seq_len_after=7, output_seq_len=9):\n",
        "    \"\"\"\n",
        "    Generate samples, input past and future, target middle\n",
        "    :param x: input dataframe\n",
        "    :param y: target variable to impute\n",
        "    :param seq_len_before:\n",
        "    :param seq_len_after:\n",
        "    :param output_seq_len:\n",
        "    :return: (inputsequence, targetsequence)\n",
        "    \"\"\"\n",
        "    total_samples = x.shape[0]\n",
        "    total_len = seq_len_before + seq_len_after + output_seq_len\n",
        "\n",
        "    input_batch_idxs = [list(range(i, i + seq_len_before)) + list(\n",
        "        range(i + seq_len_before + output_seq_len, i + seq_len_before + output_seq_len + seq_len_after)) for i in\n",
        "                        range((total_samples - total_len + 1))]\n",
        "\n",
        "    input_seq = np.take(x, input_batch_idxs, axis=0)\n",
        "\n",
        "    z = np.zeros((output_seq_len, model_params['dim_in']))\n",
        "\n",
        "    input_seq = np.array([np.concatenate((i[:seq_len_before], z, i[seq_len_before:])) for i in input_seq])\n",
        "\n",
        "    output_batch_idxs = [list(range(i + seq_len_before, i + seq_len_before + output_seq_len)) for i in\n",
        "                         range((total_samples - total_len + 1))]\n",
        "\n",
        "    output_seq = np.take(y, output_batch_idxs, axis=0)\n",
        "\n",
        "    return input_seq, output_seq\n",
        "\n",
        "\n",
        "def pad_all_cases(x, y, model_params, min_len_before=7, max_len_before=9, min_len_after=7, max_len_after=9,\n",
        "                  targetlength=9):\n",
        "    \"\"\"\n",
        "    variable length inputs, fix length outputs\n",
        "    :param x: input dataframe\n",
        "    :param y: target variable to impute\n",
        "    :param min_len_before:\n",
        "    :param max_len_before:\n",
        "    :param min_len_after:\n",
        "    :param max_len_after:\n",
        "    :param targetlength:\n",
        "    :return: inputsequence with same length, outputsequence with same length\n",
        "    \"\"\"\n",
        "    total_x = []\n",
        "    total_y = []\n",
        "    total_len_x = []\n",
        "    totle_len_before_x = []\n",
        "\n",
        "    for l_before in range(min_len_before, max_len_before + 1):\n",
        "        for l_after in range(min_len_after, max_len_after + 1):\n",
        "            case_x, case_y = generate_samples(x.values, y, model_params, l_before, l_after, targetlength)\n",
        "            # npad is a tuple of (n_before, n_after) for each dimension\n",
        "\n",
        "            len_x = np.full(case_x.shape[0], case_x.shape[1])\n",
        "            len_before_sequence_x = np.full(case_x.shape[0], l_before)\n",
        "\n",
        "            npad = ((0, 0), (0, max_len_before - l_before + max_len_after - l_after), (0, 0))\n",
        "\n",
        "            same_length_x = np.pad(case_x, pad_width=npad, mode='constant', constant_values=0)\n",
        "\n",
        "            total_x.append(same_length_x)\n",
        "            total_y.append(case_y)\n",
        "            total_len_x.append(len_x)\n",
        "            totle_len_before_x.append(len_before_sequence_x)\n",
        "\n",
        "    ## total x,y\n",
        "    concatenated_x = np.concatenate(total_x, axis=0)\n",
        "    concatenated_y = np.concatenate(total_y, axis=0)\n",
        "    len_all_case = np.concatenate(total_len_x).ravel()\n",
        "    len_before_all_case = np.concatenate(totle_len_before_x).ravel()\n",
        "\n",
        "    return concatenated_x, concatenated_y, len_all_case, len_before_all_case"
      ],
      "execution_count": 0,
      "outputs": []
    },
    {
      "cell_type": "code",
      "metadata": {
        "id": "zRUwUr7TK8Pm",
        "colab_type": "code",
        "colab": {}
      },
      "source": [
        "# x_samples, y_samples, x_len, x_before_len = train_val_test_generate(df_train, train_sampling_params)\n",
        "# def train_val_test_generate(dataframe, model_params):\n",
        "\n",
        "dataframe = df_train\n",
        "dataframe1 = df_test\n",
        "model_params = train_sampling_params\n",
        "\n"
      ],
      "execution_count": 0,
      "outputs": []
    },
    {
      "cell_type": "code",
      "metadata": {
        "id": "AG-U3p3HMAY4",
        "colab_type": "code",
        "colab": {}
      },
      "source": [
        "x = dataframe\n",
        "x1 = dataframe1\n",
        "y = dataframe['pm2.5'].values\n",
        "y1 = dataframe1['pm2.5'].values\n",
        "# model_params = model_params\n",
        "min_len_before = model_params['min_before']\n",
        "max_len_before = model_params['max_before']\n",
        "min_len_after = model_params['min_after'] \n",
        "max_len_after = model_params['max_after']\n",
        "targetlength = model_params['output_length']"
      ],
      "execution_count": 0,
      "outputs": []
    },
    {
      "cell_type": "code",
      "metadata": {
        "id": "3o6hAfNUMEHG",
        "colab_type": "code",
        "colab": {}
      },
      "source": [
        "total_x = []\n",
        "total_y = []\n",
        "total_len_x = []\n",
        "total_len_before_x = []"
      ],
      "execution_count": 0,
      "outputs": []
    },
    {
      "cell_type": "code",
      "metadata": {
        "id": "xOl--2TIMHE6",
        "colab_type": "code",
        "colab": {}
      },
      "source": [
        "def generate_samples(x, y, model_params, seq_len_before=7, seq_len_after=7, output_seq_len=9):\n",
        "    \"\"\"\n",
        "    Generate samples, input past and future, target middle\n",
        "    :param x: input dataframe\n",
        "    :param y: target variable to impute\n",
        "    :param seq_len_before:\n",
        "    :param seq_len_after:\n",
        "    :param output_seq_len:\n",
        "    :return: (inputsequence, targetsequence)\n",
        "    \"\"\"\n",
        "    total_samples = x.shape[0]\n",
        "    total_len = seq_len_before + seq_len_after + output_seq_len\n",
        "\n",
        "    input_batch_idxs = [list(range(i, i + seq_len_before)) + list(\n",
        "        range(i + seq_len_before + output_seq_len, i + seq_len_before + output_seq_len + seq_len_after)) for i in\n",
        "                        range((total_samples - total_len + 1))]\n",
        "\n",
        "    input_seq = np.take(x, input_batch_idxs, axis=0)\n",
        "\n",
        "    z = np.zeros((output_seq_len, model_params['dim_in']))\n",
        "\n",
        "    input_seq = np.array([np.concatenate((i[:seq_len_before], z, i[seq_len_before:])) for i in input_seq])\n",
        "\n",
        "    output_batch_idxs = [list(range(i + seq_len_before, i + seq_len_before + output_seq_len)) for i in\n",
        "                         range((total_samples - total_len + 1))]\n",
        "\n",
        "    output_seq = np.take(y, output_batch_idxs, axis=0)\n",
        "\n",
        "    return input_seq, output_seq"
      ],
      "execution_count": 0,
      "outputs": []
    },
    {
      "cell_type": "code",
      "metadata": {
        "id": "PsUmTa7VLs4a",
        "colab_type": "code",
        "colab": {}
      },
      "source": [
        ""
      ],
      "execution_count": 0,
      "outputs": []
    },
    {
      "cell_type": "code",
      "metadata": {
        "id": "4vkM1dp0Levx",
        "colab_type": "code",
        "colab": {}
      },
      "source": [
        "def train_test_split_SSIM(x, y, x_len, x_before_len, model_params, SEED):\n",
        "    '''\n",
        "    :param x: all x samples\n",
        "    :param y: all y samples\n",
        "    :param model_params: parameters\n",
        "    :param SEED: random SEED\n",
        "    :return: train set, test set\n",
        "    '''\n",
        "\n",
        "    ## check and remove samples with NaN (just incase)\n",
        "    index_list = []\n",
        "    for index, (x_s, y_s, len_s, len_before_s) in enumerate(zip(x, y, x_len, x_before_len)):\n",
        "        if (np.isnan(x_s).any()) or (np.isnan(y_s).any()):\n",
        "            index_list.append(index)\n",
        "\n",
        "    x = np.delete(x, index_list, axis=0)\n",
        "    y = np.delete(y, index_list, axis=0)\n",
        "    x_len = np.delete(x_len, index_list, axis=0)\n",
        "    x_before_len = np.delete(x_before_len, index_list, axis=0)\n",
        "\n",
        "    x_train, x_test, y_train, y_test = train_test_split(x, y, test_size=None,\n",
        "                                                        random_state=SEED,\n",
        "                                                        shuffle=False)\n",
        "\n",
        "    x_train_len, x_test_len = train_test_split(x_len, test_size=None, random_state=SEED, shuffle=False)\n",
        "\n",
        "    x_train_before_len, x_test_before_len = train_test_split(x_before_len, test_size=None, random_state=SEED,\n",
        "                                                             shuffle=False)\n",
        "\n",
        "    return x_train, y_train, x_train_len, x_train_before_len"
      ],
      "execution_count": 0,
      "outputs": []
    },
    {
      "cell_type": "code",
      "metadata": {
        "id": "7YDds1CoK-XW",
        "colab_type": "code",
        "colab": {}
      },
      "source": [
        ""
      ],
      "execution_count": 0,
      "outputs": []
    },
    {
      "cell_type": "code",
      "metadata": {
        "id": "IxUwqdpgMLez",
        "colab_type": "code",
        "colab": {}
      },
      "source": [
        "for l_before in range(min_len_before, max_len_before+1):\n",
        "  for l_after in range(min_len_after, max_len_after+1):\n",
        "    case_x, case_y = generate_samples(x.values, y, model_params, l_before, l_after, targetlength)\n",
        "    \n",
        "    len_x = np.full(case_x.shape[0], case_x.shape[1])\n",
        "    len_before_sequence_x = np.full(case_x.shape[0], l_before)\n",
        "\n",
        "    npad = ((0, 0), (0, max_len_before - l_before + max_len_after - l_after), (0, 0))\n",
        "\n",
        "    same_length_x = np.pad(case_x, pad_width=npad, mode='constant', constant_values=0)\n",
        "\n",
        "    total_x.append(same_length_x)\n",
        "\n",
        "    total_y.append(case_y)\n",
        "\n",
        "    total_len_x.append(len_x)\n",
        "\n",
        "    total_len_before_x.append(len_before_sequence_x)\n",
        "\n",
        "concatenated_x = np.concatenate(total_x, axis=0)\n",
        "concatenated_y = np.concatenate(total_y, axis=0)\n",
        "len_all_case = np.concatenate(total_len_x).ravel()\n",
        "len_before_all_case = np.concatenate(total_len_before_x).ravel()\n",
        "\n",
        "\n",
        "\n",
        "\n",
        "\n",
        "\n",
        "\n",
        "# ###############\n",
        "\n",
        "train_val_test_x = concatenated_x\n",
        "train_val_test_y = concatenated_y\n",
        "len_x_samples = len_all_case\n",
        "len_before_x_samples = len_before_all_case\n",
        "\n",
        "\n",
        "\n",
        "    "
      ],
      "execution_count": 0,
      "outputs": []
    },
    {
      "cell_type": "code",
      "metadata": {
        "id": "118a-68IwQSY",
        "colab_type": "code",
        "colab": {}
      },
      "source": [
        "x_samples, y_samples, x_len, x_before_len = train_val_test_x, train_val_test_y, len_x_samples, len_before_x_samples\n",
        "\n",
        "x_test, y_test, x_test_len, x_test_before_len = train_test_split_SSIM(x_samples, y_samples, x_len, x_before_len,\n",
        "                                                                          test_sampling_params, SEED)"
      ],
      "execution_count": 0,
      "outputs": []
    },
    {
      "cell_type": "code",
      "metadata": {
        "id": "iyHn9zNWMwFQ",
        "colab_type": "code",
        "outputId": "d8477aa4-4f0b-4386-849a-e640f1d6c2a3",
        "colab": {
          "base_uri": "https://localhost:8080/",
          "height": 51
        }
      },
      "source": [
        "print('X_samples:{}'.format(x_samples.shape))\n",
        "print('y_samples:{}'.format(y_samples.shape))"
      ],
      "execution_count": 27,
      "outputs": [
        {
          "output_type": "stream",
          "text": [
            "X_samples:(142272, 55, 11)\n",
            "y_samples:(142272, 5)\n"
          ],
          "name": "stdout"
        }
      ]
    },
    {
      "cell_type": "code",
      "metadata": {
        "id": "z1IKka41LXX0",
        "colab_type": "code",
        "colab": {}
      },
      "source": [
        "X = x_samples\n",
        "y = y_samples"
      ],
      "execution_count": 0,
      "outputs": []
    },
    {
      "cell_type": "code",
      "metadata": {
        "id": "Nkiw9giDlEcN",
        "colab_type": "code",
        "outputId": "94896c87-1f79-4b2a-e196-b7c4b99432e0",
        "colab": {
          "base_uri": "https://localhost:8080/",
          "height": 34
        }
      },
      "source": [
        "X.shape"
      ],
      "execution_count": 29,
      "outputs": [
        {
          "output_type": "execute_result",
          "data": {
            "text/plain": [
              "(142272, 55, 11)"
            ]
          },
          "metadata": {
            "tags": []
          },
          "execution_count": 29
        }
      ]
    },
    {
      "cell_type": "code",
      "metadata": {
        "id": "aot0ZvLInG4P",
        "colab_type": "code",
        "colab": {}
      },
      "source": [
        "# X = X.reshape((X.shape[0], X.shape[1], X.shape[2], 1))"
      ],
      "execution_count": 0,
      "outputs": []
    },
    {
      "cell_type": "code",
      "metadata": {
        "id": "dxykLW_inSVG",
        "colab_type": "code",
        "colab": {}
      },
      "source": [
        ""
      ],
      "execution_count": 0,
      "outputs": []
    },
    {
      "cell_type": "code",
      "metadata": {
        "id": "BonfMV6DlJZX",
        "colab_type": "code",
        "outputId": "ed2b6d81-ebe6-424b-f1f5-38f66b33d552",
        "colab": {
          "base_uri": "https://localhost:8080/",
          "height": 34
        }
      },
      "source": [
        "X[0].shape"
      ],
      "execution_count": 31,
      "outputs": [
        {
          "output_type": "execute_result",
          "data": {
            "text/plain": [
              "(55, 11)"
            ]
          },
          "metadata": {
            "tags": []
          },
          "execution_count": 31
        }
      ]
    },
    {
      "cell_type": "code",
      "metadata": {
        "id": "yy0E6CKkN63v",
        "colab_type": "code",
        "outputId": "b2aad1a3-54a1-4509-faf5-e134895c5b88",
        "colab": {
          "base_uri": "https://localhost:8080/",
          "height": 34
        }
      },
      "source": [
        "y.shape"
      ],
      "execution_count": 32,
      "outputs": [
        {
          "output_type": "execute_result",
          "data": {
            "text/plain": [
              "(142272, 5)"
            ]
          },
          "metadata": {
            "tags": []
          },
          "execution_count": 32
        }
      ]
    },
    {
      "cell_type": "code",
      "metadata": {
        "id": "mA8dbaipN_ss",
        "colab_type": "code",
        "colab": {}
      },
      "source": [
        "# X[0]"
      ],
      "execution_count": 0,
      "outputs": []
    },
    {
      "cell_type": "code",
      "metadata": {
        "id": "KLEV5I8ONLn_",
        "colab_type": "code",
        "colab": {}
      },
      "source": [
        "# Code By Vishal Pandey"
      ],
      "execution_count": 0,
      "outputs": []
    },
    {
      "cell_type": "code",
      "metadata": {
        "id": "PrIP3xmBM_ob",
        "colab_type": "code",
        "colab": {
          "base_uri": "https://localhost:8080/",
          "height": 34
        },
        "outputId": "b38341fc-587e-4f62-9eb4-3f5f685cd8a6"
      },
      "source": [
        "from keras.models import Sequential\n",
        "from keras.layers import Dense, Flatten\n",
        "from keras.layers.convolutional import Conv1D, Conv2D, MaxPooling1D, MaxPooling2D"
      ],
      "execution_count": 35,
      "outputs": [
        {
          "output_type": "stream",
          "text": [
            "Using TensorFlow backend.\n"
          ],
          "name": "stderr"
        }
      ]
    },
    {
      "cell_type": "code",
      "metadata": {
        "id": "j6rGL_Eot_3z",
        "colab_type": "code",
        "colab": {}
      },
      "source": [
        "from keras.layers import LSTM, Bidirectional"
      ],
      "execution_count": 0,
      "outputs": []
    },
    {
      "cell_type": "code",
      "metadata": {
        "id": "Ac1e9TDHYNs4",
        "colab_type": "code",
        "colab": {}
      },
      "source": [
        "from keras import losses  "
      ],
      "execution_count": 0,
      "outputs": []
    },
    {
      "cell_type": "code",
      "metadata": {
        "id": "yHfUHR2WNzBx",
        "colab_type": "code",
        "colab": {}
      },
      "source": [
        "\n",
        "# n_output = y.shape[1] * y.shape[2]\n",
        "# y = y.reshape((y.shape[0], n_output))"
      ],
      "execution_count": 0,
      "outputs": []
    },
    {
      "cell_type": "code",
      "metadata": {
        "id": "80SDJqv1NKn9",
        "colab_type": "code",
        "colab": {}
      },
      "source": [
        "model = Sequential()\n",
        "model.add(Bidirectional(LSTM(64, return_sequences=True), input_shape=(55,11)))\n",
        "model.add(Bidirectional(LSTM(32)))\n",
        "\n",
        "\n",
        "# model.add(Conv2D(filters=32, kernel_size=3, activation='relu'))\n",
        "# model.add(MaxPooling1D(pool_size=10))\n",
        "# model.add(Flatten())\n",
        "# model.add(Dense(50, activation='relu'))\n",
        "# model.add(Dense(50, activation='relu'))\n",
        "model.add(Dense(5))\n",
        "model.compile(optimizer='adam', loss='mse', metrics=['accuracy'])"
      ],
      "execution_count": 0,
      "outputs": []
    },
    {
      "cell_type": "code",
      "metadata": {
        "id": "eepaWdR5xvn4",
        "colab_type": "code",
        "colab": {}
      },
      "source": [
        "import tensorflow as tf"
      ],
      "execution_count": 0,
      "outputs": []
    },
    {
      "cell_type": "code",
      "metadata": {
        "id": "QWOb03AsNbI9",
        "colab_type": "code",
        "outputId": "9283fae2-6569-465d-937c-5700d0a5ec76",
        "colab": {
          "base_uri": "https://localhost:8080/",
          "height": 513
        }
      },
      "source": [
        "model.fit(X, y, epochs=20, verbose=1)"
      ],
      "execution_count": 44,
      "outputs": [
        {
          "output_type": "stream",
          "text": [
            "Epoch 1/20\n",
            "142272/142272 [==============================] - 658s 5ms/step - loss: 0.2279 - acc: 0.3291\n",
            "Epoch 2/20\n",
            "142272/142272 [==============================] - 655s 5ms/step - loss: 0.1180 - acc: 0.3751\n",
            "Epoch 3/20\n",
            "142272/142272 [==============================] - 654s 5ms/step - loss: 0.0814 - acc: 0.3977\n",
            "Epoch 4/20\n",
            "142272/142272 [==============================] - 651s 5ms/step - loss: 0.0650 - acc: 0.4132\n",
            "Epoch 5/20\n",
            "142272/142272 [==============================] - 661s 5ms/step - loss: 0.0543 - acc: 0.4269\n",
            "Epoch 6/20\n",
            "142272/142272 [==============================] - 657s 5ms/step - loss: 0.0473 - acc: 0.4398\n",
            "Epoch 7/20\n",
            "142272/142272 [==============================] - 652s 5ms/step - loss: 0.0358 - acc: 0.4540\n",
            "Epoch 8/20\n",
            "142272/142272 [==============================] - 652s 5ms/step - loss: 0.0349 - acc: 0.4612\n",
            "Epoch 9/20\n",
            "142272/142272 [==============================] - 654s 5ms/step - loss: 0.0306 - acc: 0.4731\n",
            "Epoch 10/20\n",
            "142272/142272 [==============================] - 668s 5ms/step - loss: 0.0272 - acc: 0.4797\n",
            "Epoch 11/20\n",
            "142272/142272 [==============================] - 662s 5ms/step - loss: 0.0241 - acc: 0.4909\n",
            "Epoch 12/20\n",
            "142272/142272 [==============================] - 654s 5ms/step - loss: 0.0210 - acc: 0.5035\n",
            "Epoch 13/20\n",
            "142272/142272 [==============================] - 643s 5ms/step - loss: 0.0224 - acc: 0.5071\n",
            "Epoch 14/20\n",
            " 10752/142272 [=>............................] - ETA: 9:53 - loss: 0.0193 - acc: 0.5231Buffered data was truncated after reaching the output size limit."
          ],
          "name": "stdout"
        }
      ]
    },
    {
      "cell_type": "code",
      "metadata": {
        "id": "_wsVpvbZO-Rj",
        "colab_type": "code",
        "colab": {}
      },
      "source": [
        "lstm1 = model.history.history['loss']"
      ],
      "execution_count": 0,
      "outputs": []
    },
    {
      "cell_type": "code",
      "metadata": {
        "id": "L9aWg6ftDjFQ",
        "colab_type": "code",
        "outputId": "119cdee3-3d11-4aaf-f3b6-90563256c8b0",
        "colab": {
          "base_uri": "https://localhost:8080/",
          "height": 238
        }
      },
      "source": [
        "lstm1"
      ],
      "execution_count": 46,
      "outputs": [
        {
          "output_type": "execute_result",
          "data": {
            "text/plain": [
              "[0.22792139850025625,\n",
              " 0.11797690214283406,\n",
              " 0.08144729260608279,\n",
              " 0.06495467183195655,\n",
              " 0.05429098115219252,\n",
              " 0.047294284777193794,\n",
              " 0.0357668420288995,\n",
              " 0.034897267679988436,\n",
              " 0.030565328814560196,\n",
              " 0.02722459038255759,\n",
              " 0.024085499581495855,\n",
              " 0.020978323906325758,\n",
              " 0.02244218765057077]"
            ]
          },
          "metadata": {
            "tags": []
          },
          "execution_count": 46
        }
      ]
    },
    {
      "cell_type": "code",
      "metadata": {
        "id": "HNDKjWifXeuD",
        "colab_type": "code",
        "outputId": "96ff10ec-96ec-41aa-8df1-edb5be1e63f8",
        "colab": {
          "base_uri": "https://localhost:8080/",
          "height": 265
        }
      },
      "source": [
        "plt.figure(figsize=(8,4))\n",
        "plt.xticks(np.arange(0,25,1))\n",
        "plt.plot(range(len(lstm1)),lstm1);"
      ],
      "execution_count": 47,
      "outputs": [
        {
          "output_type": "display_data",
          "data": {
            "image/png": "[encoded data removed]",
            "text/plain": [
              "<Figure size 576x288 with 1 Axes>"
            ]
          },
          "metadata": {
            "tags": []
          }
        }
      ]
    },
    {
      "cell_type": "code",
      "metadata": {
        "id": "JhIa-AuUXsId",
        "colab_type": "code",
        "colab": {}
      },
      "source": [
        " y_hat = model.predict(X)"
      ],
      "execution_count": 0,
      "outputs": []
    },
    {
      "cell_type": "code",
      "metadata": {
        "id": "qPuGdSOYcG2R",
        "colab_type": "code",
        "outputId": "fda66753-fbf1-4814-997a-933212731d8e",
        "colab": {
          "base_uri": "https://localhost:8080/",
          "height": 34
        }
      },
      "source": [
        "y_hat[:, 0].shape"
      ],
      "execution_count": 49,
      "outputs": [
        {
          "output_type": "execute_result",
          "data": {
            "text/plain": [
              "(142272,)"
            ]
          },
          "metadata": {
            "tags": []
          },
          "execution_count": 49
        }
      ]
    },
    {
      "cell_type": "code",
      "metadata": {
        "id": "bL7KjI7HcKGz",
        "colab_type": "code",
        "outputId": "a43ae708-9efa-430a-cc4e-be26edb24a16",
        "colab": {
          "base_uri": "https://localhost:8080/",
          "height": 34
        }
      },
      "source": [
        "y[:, 0].shape"
      ],
      "execution_count": 50,
      "outputs": [
        {
          "output_type": "execute_result",
          "data": {
            "text/plain": [
              "(142272,)"
            ]
          },
          "metadata": {
            "tags": []
          },
          "execution_count": 50
        }
      ]
    },
    {
      "cell_type": "code",
      "metadata": {
        "id": "10QrDm9Rcq7c",
        "colab_type": "code",
        "outputId": "94794f73-0088-4029-a66e-cc444d22537d",
        "colab": {
          "base_uri": "https://localhost:8080/",
          "height": 265
        }
      },
      "source": [
        "plt.plot(y[:200, 4], 'r-', label='actual')\n",
        "plt.plot(y_hat[:200, 4], 'b-', label='predicted')\n",
        "plt.legend()\n",
        "plt.show()"
      ],
      "execution_count": 57,
      "outputs": [
        {
          "output_type": "display_data",
          "data": {
            "image/png": "[encoded data removed]",
            "text/plain": [
              "<Figure size 432x288 with 1 Axes>"
            ]
          },
          "metadata": {
            "tags": []
          }
        }
      ]
    },
    {
      "cell_type": "code",
      "metadata": {
        "id": "4VxyXa6_dCSn",
        "colab_type": "code",
        "colab": {}
      },
      "source": [
        ""
      ],
      "execution_count": 0,
      "outputs": []
    },
    {
      "cell_type": "code",
      "metadata": {
        "id": "-8Vh3IrMdL_U",
        "colab_type": "code",
        "colab": {}
      },
      "source": [
        ""
      ],
      "execution_count": 0,
      "outputs": []
    }
  ]
}