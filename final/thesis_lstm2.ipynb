{
  "nbformat": 4,
  "nbformat_minor": 0,
  "metadata": {
    "colab": {
      "name": "thesis_lstm2.ipynb",
      "provenance": [],
      "collapsed_sections": []
    },
    "kernelspec": {
      "name": "python3",
      "display_name": "Python 3"
    },
    "accelerator": "TPU"
  },
  "cells": [
    {
      "cell_type": "code",
      "metadata": {
        "id": "esFQHHUNKbqb",
        "colab_type": "code",
        "colab": {}
      },
      "source": [
        "import numpy as np\n",
        "import pandas as pd\n",
        "from sklearn.preprocessing import StandardScaler\n",
        "from sklearn.model_selection import train_test_split\n",
        "import random, math, os, time"
      ],
      "execution_count": 0,
      "outputs": []
    },
    {
      "cell_type": "code",
      "metadata": {
        "id": "zdRJ672gKgOc",
        "colab_type": "code",
        "colab": {}
      },
      "source": [
        "SEED = 1234\n",
        "random.seed(SEED)"
      ],
      "execution_count": 0,
      "outputs": []
    },
    {
      "cell_type": "code",
      "metadata": {
        "id": "cT4xzZAYXv5y",
        "colab_type": "code",
        "colab": {}
      },
      "source": [
        "import matplotlib.pyplot as plt\n"
      ],
      "execution_count": 0,
      "outputs": []
    },
    {
      "cell_type": "code",
      "metadata": {
        "id": "nf-OIx9CKhjC",
        "colab_type": "code",
        "colab": {}
      },
      "source": [
        "filepath = 'https://raw.githubusercontent.com/rani700/SSIM/master/SSIM/data/simplified_PM25.csv'\n",
        "df = pd.read_csv(filepath, dayfirst=True)"
      ],
      "execution_count": 0,
      "outputs": []
    },
    {
      "cell_type": "code",
      "metadata": {
        "id": "OJqQV7NVLS3w",
        "colab_type": "code",
        "colab": {}
      },
      "source": [
        "train_sampling_params = {\n",
        "    'dim_in': 11,\n",
        "    'output_length': 5,\n",
        "    'min_before': 20,\n",
        "    'max_before': 25,\n",
        "    'min_after': 20,\n",
        "    'max_after': 25,\n",
        "}"
      ],
      "execution_count": 0,
      "outputs": []
    },
    {
      "cell_type": "code",
      "metadata": {
        "id": "_iEGE-UkMVsj",
        "colab_type": "code",
        "colab": {}
      },
      "source": [
        "test_sampling_params = {\n",
        "  'dim_in': 11,\n",
        "  'output_length': 5,\n",
        "  'min_before': 20,\n",
        "  'max_before': 25,\n",
        "  'min_after': 20,\n",
        "  'max_after': 25,\n",
        "}"
      ],
      "execution_count": 0,
      "outputs": []
    },
    {
      "cell_type": "code",
      "metadata": {
        "id": "gQb36AFFKj-q",
        "colab_type": "code",
        "outputId": "3fa4dae5-a22d-48a5-d276-26d8e76bf7d3",
        "colab": {
          "base_uri": "https://localhost:8080/",
          "height": 204
        }
      },
      "source": [
        "df.head()"
      ],
      "execution_count": 0,
      "outputs": [
        {
          "output_type": "execute_result",
          "data": {
            "text/html": [
              "<div>\n",
              "<style scoped>\n",
              "    .dataframe tbody tr th:only-of-type {\n",
              "        vertical-align: middle;\n",
              "    }\n",
              "\n",
              "    .dataframe tbody tr th {\n",
              "        vertical-align: top;\n",
              "    }\n",
              "\n",
              "    .dataframe thead th {\n",
              "        text-align: right;\n",
              "    }\n",
              "</style>\n",
              "<table border=\"1\" class=\"dataframe\">\n",
              "  <thead>\n",
              "    <tr style=\"text-align: right;\">\n",
              "      <th></th>\n",
              "      <th>date</th>\n",
              "      <th>pm2.5</th>\n",
              "      <th>DEWP</th>\n",
              "      <th>TEMP</th>\n",
              "      <th>PRES</th>\n",
              "      <th>Iws</th>\n",
              "      <th>Is</th>\n",
              "      <th>Ir</th>\n",
              "      <th>winddirect_0</th>\n",
              "      <th>winddirect_1</th>\n",
              "      <th>winddirect_2</th>\n",
              "      <th>winddirect_3</th>\n",
              "    </tr>\n",
              "  </thead>\n",
              "  <tbody>\n",
              "    <tr>\n",
              "      <th>0</th>\n",
              "      <td>2/01/2010 0:00</td>\n",
              "      <td>129</td>\n",
              "      <td>-16</td>\n",
              "      <td>-4.0</td>\n",
              "      <td>1020.0</td>\n",
              "      <td>1.79</td>\n",
              "      <td>0</td>\n",
              "      <td>0</td>\n",
              "      <td>0</td>\n",
              "      <td>0</td>\n",
              "      <td>1</td>\n",
              "      <td>0</td>\n",
              "    </tr>\n",
              "    <tr>\n",
              "      <th>1</th>\n",
              "      <td>2/01/2010 1:00</td>\n",
              "      <td>148</td>\n",
              "      <td>-15</td>\n",
              "      <td>-4.0</td>\n",
              "      <td>1020.0</td>\n",
              "      <td>2.68</td>\n",
              "      <td>0</td>\n",
              "      <td>0</td>\n",
              "      <td>0</td>\n",
              "      <td>0</td>\n",
              "      <td>1</td>\n",
              "      <td>0</td>\n",
              "    </tr>\n",
              "    <tr>\n",
              "      <th>2</th>\n",
              "      <td>2/01/2010 2:00</td>\n",
              "      <td>159</td>\n",
              "      <td>-11</td>\n",
              "      <td>-5.0</td>\n",
              "      <td>1021.0</td>\n",
              "      <td>3.57</td>\n",
              "      <td>0</td>\n",
              "      <td>0</td>\n",
              "      <td>0</td>\n",
              "      <td>0</td>\n",
              "      <td>1</td>\n",
              "      <td>0</td>\n",
              "    </tr>\n",
              "    <tr>\n",
              "      <th>3</th>\n",
              "      <td>2/01/2010 3:00</td>\n",
              "      <td>181</td>\n",
              "      <td>-7</td>\n",
              "      <td>-5.0</td>\n",
              "      <td>1022.0</td>\n",
              "      <td>5.36</td>\n",
              "      <td>1</td>\n",
              "      <td>0</td>\n",
              "      <td>0</td>\n",
              "      <td>0</td>\n",
              "      <td>1</td>\n",
              "      <td>0</td>\n",
              "    </tr>\n",
              "    <tr>\n",
              "      <th>4</th>\n",
              "      <td>2/01/2010 4:00</td>\n",
              "      <td>138</td>\n",
              "      <td>-7</td>\n",
              "      <td>-5.0</td>\n",
              "      <td>1022.0</td>\n",
              "      <td>6.25</td>\n",
              "      <td>2</td>\n",
              "      <td>0</td>\n",
              "      <td>0</td>\n",
              "      <td>0</td>\n",
              "      <td>1</td>\n",
              "      <td>0</td>\n",
              "    </tr>\n",
              "  </tbody>\n",
              "</table>\n",
              "</div>"
            ],
            "text/plain": [
              "             date  pm2.5  DEWP  ...  winddirect_1  winddirect_2  winddirect_3\n",
              "0  2/01/2010 0:00    129   -16  ...             0             1             0\n",
              "1  2/01/2010 1:00    148   -15  ...             0             1             0\n",
              "2  2/01/2010 2:00    159   -11  ...             0             1             0\n",
              "3  2/01/2010 3:00    181    -7  ...             0             1             0\n",
              "4  2/01/2010 4:00    138    -7  ...             0             1             0\n",
              "\n",
              "[5 rows x 12 columns]"
            ]
          },
          "metadata": {
            "tags": []
          },
          "execution_count": 7
        }
      ]
    },
    {
      "cell_type": "code",
      "metadata": {
        "id": "GCRV1BXYKnI6",
        "colab_type": "code",
        "colab": {}
      },
      "source": [
        "len(df[:5000])\n",
        "df = df[:5000]"
      ],
      "execution_count": 0,
      "outputs": []
    },
    {
      "cell_type": "code",
      "metadata": {
        "id": "FEZoD24g3OJo",
        "colab_type": "code",
        "outputId": "8e5bc6ec-bd5d-4a28-9365-cf86f2139813",
        "colab": {
          "base_uri": "https://localhost:8080/",
          "height": 34
        }
      },
      "source": [
        "df.iloc[0, 1]"
      ],
      "execution_count": 0,
      "outputs": [
        {
          "output_type": "execute_result",
          "data": {
            "text/plain": [
              "129"
            ]
          },
          "metadata": {
            "tags": []
          },
          "execution_count": 9
        }
      ]
    },
    {
      "cell_type": "code",
      "metadata": {
        "id": "Xa-Wu-jrKo2a",
        "colab_type": "code",
        "outputId": "a2cdee6b-ec8d-457f-cc22-e0ec1bcc7e45",
        "colab": {
          "base_uri": "https://localhost:8080/",
          "height": 85
        }
      },
      "source": [
        "print(df.iloc[0, 0])\n",
        "print(df.iloc[4000, 0])\n",
        "print(df.iloc[4001, 0])\n",
        "print(df.iloc[4999, 0])\n",
        "\n",
        "\n",
        "df.set_index('date', inplace=True)"
      ],
      "execution_count": 0,
      "outputs": [
        {
          "output_type": "stream",
          "text": [
            "2/01/2010 0:00\n",
            "17/06/2010 16:00\n",
            "17/06/2010 17:00\n",
            "29/07/2010 7:00\n"
          ],
          "name": "stdout"
        }
      ]
    },
    {
      "cell_type": "code",
      "metadata": {
        "id": "0iDB97mVKqA6",
        "colab_type": "code",
        "outputId": "d964f2ba-d980-46b5-9a0c-191365c840d5",
        "colab": {
          "base_uri": "https://localhost:8080/",
          "height": 235
        }
      },
      "source": [
        "df.head()"
      ],
      "execution_count": 0,
      "outputs": [
        {
          "output_type": "execute_result",
          "data": {
            "text/html": [
              "<div>\n",
              "<style scoped>\n",
              "    .dataframe tbody tr th:only-of-type {\n",
              "        vertical-align: middle;\n",
              "    }\n",
              "\n",
              "    .dataframe tbody tr th {\n",
              "        vertical-align: top;\n",
              "    }\n",
              "\n",
              "    .dataframe thead th {\n",
              "        text-align: right;\n",
              "    }\n",
              "</style>\n",
              "<table border=\"1\" class=\"dataframe\">\n",
              "  <thead>\n",
              "    <tr style=\"text-align: right;\">\n",
              "      <th></th>\n",
              "      <th>pm2.5</th>\n",
              "      <th>DEWP</th>\n",
              "      <th>TEMP</th>\n",
              "      <th>PRES</th>\n",
              "      <th>Iws</th>\n",
              "      <th>Is</th>\n",
              "      <th>Ir</th>\n",
              "      <th>winddirect_0</th>\n",
              "      <th>winddirect_1</th>\n",
              "      <th>winddirect_2</th>\n",
              "      <th>winddirect_3</th>\n",
              "    </tr>\n",
              "    <tr>\n",
              "      <th>date</th>\n",
              "      <th></th>\n",
              "      <th></th>\n",
              "      <th></th>\n",
              "      <th></th>\n",
              "      <th></th>\n",
              "      <th></th>\n",
              "      <th></th>\n",
              "      <th></th>\n",
              "      <th></th>\n",
              "      <th></th>\n",
              "      <th></th>\n",
              "    </tr>\n",
              "  </thead>\n",
              "  <tbody>\n",
              "    <tr>\n",
              "      <th>2/01/2010 0:00</th>\n",
              "      <td>129</td>\n",
              "      <td>-16</td>\n",
              "      <td>-4.0</td>\n",
              "      <td>1020.0</td>\n",
              "      <td>1.79</td>\n",
              "      <td>0</td>\n",
              "      <td>0</td>\n",
              "      <td>0</td>\n",
              "      <td>0</td>\n",
              "      <td>1</td>\n",
              "      <td>0</td>\n",
              "    </tr>\n",
              "    <tr>\n",
              "      <th>2/01/2010 1:00</th>\n",
              "      <td>148</td>\n",
              "      <td>-15</td>\n",
              "      <td>-4.0</td>\n",
              "      <td>1020.0</td>\n",
              "      <td>2.68</td>\n",
              "      <td>0</td>\n",
              "      <td>0</td>\n",
              "      <td>0</td>\n",
              "      <td>0</td>\n",
              "      <td>1</td>\n",
              "      <td>0</td>\n",
              "    </tr>\n",
              "    <tr>\n",
              "      <th>2/01/2010 2:00</th>\n",
              "      <td>159</td>\n",
              "      <td>-11</td>\n",
              "      <td>-5.0</td>\n",
              "      <td>1021.0</td>\n",
              "      <td>3.57</td>\n",
              "      <td>0</td>\n",
              "      <td>0</td>\n",
              "      <td>0</td>\n",
              "      <td>0</td>\n",
              "      <td>1</td>\n",
              "      <td>0</td>\n",
              "    </tr>\n",
              "    <tr>\n",
              "      <th>2/01/2010 3:00</th>\n",
              "      <td>181</td>\n",
              "      <td>-7</td>\n",
              "      <td>-5.0</td>\n",
              "      <td>1022.0</td>\n",
              "      <td>5.36</td>\n",
              "      <td>1</td>\n",
              "      <td>0</td>\n",
              "      <td>0</td>\n",
              "      <td>0</td>\n",
              "      <td>1</td>\n",
              "      <td>0</td>\n",
              "    </tr>\n",
              "    <tr>\n",
              "      <th>2/01/2010 4:00</th>\n",
              "      <td>138</td>\n",
              "      <td>-7</td>\n",
              "      <td>-5.0</td>\n",
              "      <td>1022.0</td>\n",
              "      <td>6.25</td>\n",
              "      <td>2</td>\n",
              "      <td>0</td>\n",
              "      <td>0</td>\n",
              "      <td>0</td>\n",
              "      <td>1</td>\n",
              "      <td>0</td>\n",
              "    </tr>\n",
              "  </tbody>\n",
              "</table>\n",
              "</div>"
            ],
            "text/plain": [
              "                pm2.5  DEWP  TEMP  ...  winddirect_1  winddirect_2  winddirect_3\n",
              "date                               ...                                          \n",
              "2/01/2010 0:00    129   -16  -4.0  ...             0             1             0\n",
              "2/01/2010 1:00    148   -15  -4.0  ...             0             1             0\n",
              "2/01/2010 2:00    159   -11  -5.0  ...             0             1             0\n",
              "2/01/2010 3:00    181    -7  -5.0  ...             0             1             0\n",
              "2/01/2010 4:00    138    -7  -5.0  ...             0             1             0\n",
              "\n",
              "[5 rows x 11 columns]"
            ]
          },
          "metadata": {
            "tags": []
          },
          "execution_count": 11
        }
      ]
    },
    {
      "cell_type": "code",
      "metadata": {
        "id": "IqtM_6wwKrih",
        "colab_type": "code",
        "colab": {}
      },
      "source": [
        "pm25 = df['pm2.5'].values.copy().reshape(-1, 1)"
      ],
      "execution_count": 0,
      "outputs": []
    },
    {
      "cell_type": "code",
      "metadata": {
        "id": "nw8nedAGKtV4",
        "colab_type": "code",
        "outputId": "857b8301-ab58-449e-e8a3-13c0f0759fdb",
        "colab": {
          "base_uri": "https://localhost:8080/",
          "height": 34
        }
      },
      "source": [
        "scaler_x = StandardScaler()\n",
        "scaler_x.fit(df[['pm2.5', 'DEWP', 'TEMP', 'PRES', 'Iws', 'Is', 'Ir']])"
      ],
      "execution_count": 0,
      "outputs": [
        {
          "output_type": "execute_result",
          "data": {
            "text/plain": [
              "StandardScaler(copy=True, with_mean=True, with_std=True)"
            ]
          },
          "metadata": {
            "tags": []
          },
          "execution_count": 13
        }
      ]
    },
    {
      "cell_type": "code",
      "metadata": {
        "id": "Sg3EabLGKvNQ",
        "colab_type": "code",
        "colab": {}
      },
      "source": [
        "df[['pm2.5', 'DEWP', 'TEMP', 'PRES', 'Iws', 'Is', 'Ir']] = scaler_x.transform(df[['pm2.5', 'DEWP', 'TEMP', 'PRES', 'Iws', 'Is', 'Ir']])"
      ],
      "execution_count": 0,
      "outputs": []
    },
    {
      "cell_type": "code",
      "metadata": {
        "id": "wsCFEBY6KxUX",
        "colab_type": "code",
        "colab": {}
      },
      "source": [
        "scaler_y = StandardScaler()\n",
        "scaler_y.fit(pm25)\n",
        "y_all = scaler_y.transform(pm25)"
      ],
      "execution_count": 0,
      "outputs": []
    },
    {
      "cell_type": "code",
      "metadata": {
        "id": "aiHuv1SMK0EP",
        "colab_type": "code",
        "colab": {}
      },
      "source": [
        "df_train = df.loc['2/01/2010 0:00': '17/06/2010 16:00'].copy()\n",
        "df_test = df.loc['17/06/2010 17:00': '29/07/2010 7:00'].copy()"
      ],
      "execution_count": 0,
      "outputs": []
    },
    {
      "cell_type": "code",
      "metadata": {
        "id": "g-Aje_VNK2op",
        "colab_type": "code",
        "colab": {}
      },
      "source": [
        "y = y_all"
      ],
      "execution_count": 0,
      "outputs": []
    },
    {
      "cell_type": "code",
      "metadata": {
        "id": "SE2nqexWK4Q3",
        "colab_type": "code",
        "colab": {}
      },
      "source": [
        "def train_val_test_generate(dataframe, model_params):\n",
        "    '''\n",
        "    :param dataframe: processed dataframe\n",
        "    :param model_params: for input dim\n",
        "    :return: train_x, train_y, test_x, test_y with the same length (by padding zero)\n",
        "    '''\n",
        "\n",
        "    train_val_test_x, train_val_test_y, len_x_samples, len_before_x_samples = pad_all_cases(dataframe,\n",
        "                                                                                            dataframe['pm2.5'].values,\n",
        "                                                                                            model_params,\n",
        "                                                                                            model_params['min_before'],\n",
        "                                                                                            model_params['max_before'],\n",
        "                                                                                            model_params['min_after'],\n",
        "                                                                                            model_params['max_after'],\n",
        "                                                                                            model_params[\n",
        "                                                                                                'output_length'])\n",
        "\n",
        "    train_val_test_y = np.expand_dims(train_val_test_y, axis=2)\n",
        "\n",
        "    return train_val_test_x, train_val_test_y, len_x_samples, len_before_x_samples"
      ],
      "execution_count": 0,
      "outputs": []
    },
    {
      "cell_type": "code",
      "metadata": {
        "id": "nMrsAqS2K6V_",
        "colab_type": "code",
        "colab": {}
      },
      "source": [
        "\n",
        "def generate_samples(x, y, model_params, seq_len_before=7, seq_len_after=7, output_seq_len=9):\n",
        "    \"\"\"\n",
        "    Generate samples, input past and future, target middle\n",
        "    :param x: input dataframe\n",
        "    :param y: target variable to impute\n",
        "    :param seq_len_before:\n",
        "    :param seq_len_after:\n",
        "    :param output_seq_len:\n",
        "    :return: (inputsequence, targetsequence)\n",
        "    \"\"\"\n",
        "    total_samples = x.shape[0]\n",
        "    total_len = seq_len_before + seq_len_after + output_seq_len\n",
        "\n",
        "    input_batch_idxs = [list(range(i, i + seq_len_before)) + list(\n",
        "        range(i + seq_len_before + output_seq_len, i + seq_len_before + output_seq_len + seq_len_after)) for i in\n",
        "                        range((total_samples - total_len + 1))]\n",
        "\n",
        "    input_seq = np.take(x, input_batch_idxs, axis=0)\n",
        "\n",
        "    z = np.zeros((output_seq_len, model_params['dim_in']))\n",
        "\n",
        "    input_seq = np.array([np.concatenate((i[:seq_len_before], z, i[seq_len_before:])) for i in input_seq])\n",
        "\n",
        "    output_batch_idxs = [list(range(i + seq_len_before, i + seq_len_before + output_seq_len)) for i in\n",
        "                         range((total_samples - total_len + 1))]\n",
        "\n",
        "    output_seq = np.take(y, output_batch_idxs, axis=0)\n",
        "\n",
        "    return input_seq, output_seq\n",
        "\n",
        "\n",
        "def pad_all_cases(x, y, model_params, min_len_before=7, max_len_before=9, min_len_after=7, max_len_after=9,\n",
        "                  targetlength=9):\n",
        "    \"\"\"\n",
        "    variable length inputs, fix length outputs\n",
        "    :param x: input dataframe\n",
        "    :param y: target variable to impute\n",
        "    :param min_len_before:\n",
        "    :param max_len_before:\n",
        "    :param min_len_after:\n",
        "    :param max_len_after:\n",
        "    :param targetlength:\n",
        "    :return: inputsequence with same length, outputsequence with same length\n",
        "    \"\"\"\n",
        "    total_x = []\n",
        "    total_y = []\n",
        "    total_len_x = []\n",
        "    totle_len_before_x = []\n",
        "\n",
        "    for l_before in range(min_len_before, max_len_before + 1):\n",
        "        for l_after in range(min_len_after, max_len_after + 1):\n",
        "            case_x, case_y = generate_samples(x.values, y, model_params, l_before, l_after, targetlength)\n",
        "            # npad is a tuple of (n_before, n_after) for each dimension\n",
        "\n",
        "            len_x = np.full(case_x.shape[0], case_x.shape[1])\n",
        "            len_before_sequence_x = np.full(case_x.shape[0], l_before)\n",
        "\n",
        "            npad = ((0, 0), (0, max_len_before - l_before + max_len_after - l_after), (0, 0))\n",
        "\n",
        "            same_length_x = np.pad(case_x, pad_width=npad, mode='constant', constant_values=0)\n",
        "\n",
        "            total_x.append(same_length_x)\n",
        "            total_y.append(case_y)\n",
        "            total_len_x.append(len_x)\n",
        "            totle_len_before_x.append(len_before_sequence_x)\n",
        "\n",
        "    ## total x,y\n",
        "    concatenated_x = np.concatenate(total_x, axis=0)\n",
        "    concatenated_y = np.concatenate(total_y, axis=0)\n",
        "    len_all_case = np.concatenate(total_len_x).ravel()\n",
        "    len_before_all_case = np.concatenate(totle_len_before_x).ravel()\n",
        "\n",
        "    return concatenated_x, concatenated_y, len_all_case, len_before_all_case"
      ],
      "execution_count": 0,
      "outputs": []
    },
    {
      "cell_type": "code",
      "metadata": {
        "id": "zRUwUr7TK8Pm",
        "colab_type": "code",
        "colab": {}
      },
      "source": [
        "# x_samples, y_samples, x_len, x_before_len = train_val_test_generate(df_train, train_sampling_params)\n",
        "# def train_val_test_generate(dataframe, model_params):\n",
        "\n",
        "dataframe = df_train\n",
        "dataframe1 = df_test\n",
        "model_params = train_sampling_params\n",
        "\n"
      ],
      "execution_count": 0,
      "outputs": []
    },
    {
      "cell_type": "code",
      "metadata": {
        "id": "AG-U3p3HMAY4",
        "colab_type": "code",
        "colab": {}
      },
      "source": [
        "x = dataframe\n",
        "x1 = dataframe1\n",
        "y = dataframe['pm2.5'].values\n",
        "y1 = dataframe1['pm2.5'].values\n",
        "# model_params = model_params\n",
        "min_len_before = model_params['min_before']\n",
        "max_len_before = model_params['max_before']\n",
        "min_len_after = model_params['min_after'] \n",
        "max_len_after = model_params['max_after']\n",
        "targetlength = model_params['output_length']"
      ],
      "execution_count": 0,
      "outputs": []
    },
    {
      "cell_type": "code",
      "metadata": {
        "id": "3o6hAfNUMEHG",
        "colab_type": "code",
        "colab": {}
      },
      "source": [
        "total_x = []\n",
        "total_y = []\n",
        "total_len_x = []\n",
        "total_len_before_x = []"
      ],
      "execution_count": 0,
      "outputs": []
    },
    {
      "cell_type": "code",
      "metadata": {
        "id": "xOl--2TIMHE6",
        "colab_type": "code",
        "colab": {}
      },
      "source": [
        "def generate_samples(x, y, model_params, seq_len_before=7, seq_len_after=7, output_seq_len=9):\n",
        "    \"\"\"\n",
        "    Generate samples, input past and future, target middle\n",
        "    :param x: input dataframe\n",
        "    :param y: target variable to impute\n",
        "    :param seq_len_before:\n",
        "    :param seq_len_after:\n",
        "    :param output_seq_len:\n",
        "    :return: (inputsequence, targetsequence)\n",
        "    \"\"\"\n",
        "    total_samples = x.shape[0]\n",
        "    total_len = seq_len_before + seq_len_after + output_seq_len\n",
        "\n",
        "    input_batch_idxs = [list(range(i, i + seq_len_before)) + list(\n",
        "        range(i + seq_len_before + output_seq_len, i + seq_len_before + output_seq_len + seq_len_after)) for i in\n",
        "                        range((total_samples - total_len + 1))]\n",
        "\n",
        "    input_seq = np.take(x, input_batch_idxs, axis=0)\n",
        "\n",
        "    z = np.zeros((output_seq_len, model_params['dim_in']))\n",
        "\n",
        "    input_seq = np.array([np.concatenate((i[:seq_len_before], z, i[seq_len_before:])) for i in input_seq])\n",
        "\n",
        "    output_batch_idxs = [list(range(i + seq_len_before, i + seq_len_before + output_seq_len)) for i in\n",
        "                         range((total_samples - total_len + 1))]\n",
        "\n",
        "    output_seq = np.take(y, output_batch_idxs, axis=0)\n",
        "\n",
        "    return input_seq, output_seq"
      ],
      "execution_count": 0,
      "outputs": []
    },
    {
      "cell_type": "code",
      "metadata": {
        "id": "PsUmTa7VLs4a",
        "colab_type": "code",
        "colab": {}
      },
      "source": [
        ""
      ],
      "execution_count": 0,
      "outputs": []
    },
    {
      "cell_type": "code",
      "metadata": {
        "id": "4vkM1dp0Levx",
        "colab_type": "code",
        "colab": {}
      },
      "source": [
        "def train_test_split_SSIM(x, y, x_len, x_before_len, model_params, SEED):\n",
        "    '''\n",
        "    :param x: all x samples\n",
        "    :param y: all y samples\n",
        "    :param model_params: parameters\n",
        "    :param SEED: random SEED\n",
        "    :return: train set, test set\n",
        "    '''\n",
        "\n",
        "    ## check and remove samples with NaN (just incase)\n",
        "    index_list = []\n",
        "    for index, (x_s, y_s, len_s, len_before_s) in enumerate(zip(x, y, x_len, x_before_len)):\n",
        "        if (np.isnan(x_s).any()) or (np.isnan(y_s).any()):\n",
        "            index_list.append(index)\n",
        "\n",
        "    x = np.delete(x, index_list, axis=0)\n",
        "    y = np.delete(y, index_list, axis=0)\n",
        "    x_len = np.delete(x_len, index_list, axis=0)\n",
        "    x_before_len = np.delete(x_before_len, index_list, axis=0)\n",
        "\n",
        "    x_train, x_test, y_train, y_test = train_test_split(x, y, test_size=None,\n",
        "                                                        random_state=SEED,\n",
        "                                                        shuffle=False)\n",
        "\n",
        "    x_train_len, x_test_len = train_test_split(x_len, test_size=None, random_state=SEED, shuffle=False)\n",
        "\n",
        "    x_train_before_len, x_test_before_len = train_test_split(x_before_len, test_size=None, random_state=SEED,\n",
        "                                                             shuffle=False)\n",
        "\n",
        "    return x_train, y_train, x_train_len, x_train_before_len"
      ],
      "execution_count": 0,
      "outputs": []
    },
    {
      "cell_type": "code",
      "metadata": {
        "id": "7YDds1CoK-XW",
        "colab_type": "code",
        "colab": {}
      },
      "source": [
        ""
      ],
      "execution_count": 0,
      "outputs": []
    },
    {
      "cell_type": "code",
      "metadata": {
        "id": "IxUwqdpgMLez",
        "colab_type": "code",
        "colab": {}
      },
      "source": [
        "for l_before in range(min_len_before, max_len_before+1):\n",
        "  for l_after in range(min_len_after, max_len_after+1):\n",
        "    case_x, case_y = generate_samples(x.values, y, model_params, l_before, l_after, targetlength)\n",
        "    \n",
        "    len_x = np.full(case_x.shape[0], case_x.shape[1])\n",
        "    len_before_sequence_x = np.full(case_x.shape[0], l_before)\n",
        "\n",
        "    npad = ((0, 0), (0, max_len_before - l_before + max_len_after - l_after), (0, 0))\n",
        "\n",
        "    same_length_x = np.pad(case_x, pad_width=npad, mode='constant', constant_values=0)\n",
        "\n",
        "    total_x.append(same_length_x)\n",
        "\n",
        "    total_y.append(case_y)\n",
        "\n",
        "    total_len_x.append(len_x)\n",
        "\n",
        "    total_len_before_x.append(len_before_sequence_x)\n",
        "\n",
        "concatenated_x = np.concatenate(total_x, axis=0)\n",
        "concatenated_y = np.concatenate(total_y, axis=0)\n",
        "len_all_case = np.concatenate(total_len_x).ravel()\n",
        "len_before_all_case = np.concatenate(total_len_before_x).ravel()\n",
        "\n",
        "\n",
        "\n",
        "\n",
        "\n",
        "\n",
        "\n",
        "# ###############\n",
        "\n",
        "train_val_test_x = concatenated_x\n",
        "train_val_test_y = concatenated_y\n",
        "len_x_samples = len_all_case\n",
        "len_before_x_samples = len_before_all_case\n",
        "\n",
        "\n",
        "\n",
        "    "
      ],
      "execution_count": 0,
      "outputs": []
    },
    {
      "cell_type": "code",
      "metadata": {
        "id": "118a-68IwQSY",
        "colab_type": "code",
        "colab": {}
      },
      "source": [
        "x_samples, y_samples, x_len, x_before_len = train_val_test_x, train_val_test_y, len_x_samples, len_before_x_samples\n",
        "\n",
        "x_test, y_test, x_test_len, x_test_before_len = train_test_split_SSIM(x_samples, y_samples, x_len, x_before_len,\n",
        "                                                                          test_sampling_params, SEED)"
      ],
      "execution_count": 0,
      "outputs": []
    },
    {
      "cell_type": "code",
      "metadata": {
        "id": "iyHn9zNWMwFQ",
        "colab_type": "code",
        "outputId": "fdab882a-94b5-4029-a2b6-2df0a76d234d",
        "colab": {
          "base_uri": "https://localhost:8080/",
          "height": 51
        }
      },
      "source": [
        "print('X_samples:{}'.format(x_samples.shape))\n",
        "print('y_samples:{}'.format(y_samples.shape))"
      ],
      "execution_count": 0,
      "outputs": [
        {
          "output_type": "stream",
          "text": [
            "X_samples:(142272, 55, 11)\n",
            "y_samples:(142272, 5)\n"
          ],
          "name": "stdout"
        }
      ]
    },
    {
      "cell_type": "code",
      "metadata": {
        "id": "z1IKka41LXX0",
        "colab_type": "code",
        "colab": {}
      },
      "source": [
        "X = x_samples\n",
        "y = y_samples"
      ],
      "execution_count": 0,
      "outputs": []
    },
    {
      "cell_type": "code",
      "metadata": {
        "id": "Nkiw9giDlEcN",
        "colab_type": "code",
        "outputId": "0feae74f-680c-479a-ded8-cca594a471b2",
        "colab": {
          "base_uri": "https://localhost:8080/",
          "height": 34
        }
      },
      "source": [
        "X.shape"
      ],
      "execution_count": 0,
      "outputs": [
        {
          "output_type": "execute_result",
          "data": {
            "text/plain": [
              "(142272, 55, 11)"
            ]
          },
          "metadata": {
            "tags": []
          },
          "execution_count": 29
        }
      ]
    },
    {
      "cell_type": "code",
      "metadata": {
        "id": "SPxe7KsWLXyq",
        "colab_type": "code",
        "colab": {}
      },
      "source": [
        ""
      ],
      "execution_count": 0,
      "outputs": []
    },
    {
      "cell_type": "code",
      "metadata": {
        "id": "aot0ZvLInG4P",
        "colab_type": "code",
        "colab": {}
      },
      "source": [
        "# X = X.reshape((X.shape[0], X.shape[1], X.shape[2]))\n"
      ],
      "execution_count": 0,
      "outputs": []
    },
    {
      "cell_type": "code",
      "metadata": {
        "id": "dxykLW_inSVG",
        "colab_type": "code",
        "colab": {}
      },
      "source": [
        ""
      ],
      "execution_count": 0,
      "outputs": []
    },
    {
      "cell_type": "code",
      "metadata": {
        "id": "BonfMV6DlJZX",
        "colab_type": "code",
        "outputId": "1727515a-cf3b-419d-dcdc-fe94402be516",
        "colab": {
          "base_uri": "https://localhost:8080/",
          "height": 34
        }
      },
      "source": [
        "X[0].shape"
      ],
      "execution_count": 0,
      "outputs": [
        {
          "output_type": "execute_result",
          "data": {
            "text/plain": [
              "(55, 11)"
            ]
          },
          "metadata": {
            "tags": []
          },
          "execution_count": 30
        }
      ]
    },
    {
      "cell_type": "code",
      "metadata": {
        "id": "yy0E6CKkN63v",
        "colab_type": "code",
        "outputId": "8d05305d-9137-4a81-f10e-e6326945266d",
        "colab": {
          "base_uri": "https://localhost:8080/",
          "height": 34
        }
      },
      "source": [
        "y.shape"
      ],
      "execution_count": 0,
      "outputs": [
        {
          "output_type": "execute_result",
          "data": {
            "text/plain": [
              "(142272, 5)"
            ]
          },
          "metadata": {
            "tags": []
          },
          "execution_count": 31
        }
      ]
    },
    {
      "cell_type": "code",
      "metadata": {
        "id": "SOexIHSYWNZr",
        "colab_type": "code",
        "colab": {
          "base_uri": "https://localhost:8080/",
          "height": 326
        },
        "outputId": "a35dbea7-e985-49cd-b891-65d2d6f3cdf6"
      },
      "source": [
        "!pip install keras-self-attention"
      ],
      "execution_count": 58,
      "outputs": [
        {
          "output_type": "stream",
          "text": [
            "Collecting keras-self-attention\n",
            "  Downloading https://files.pythonhosted.org/packages/44/3e/eb1a7c7545eede073ceda2f5d78442b6cad33b5b750d7f0742866907c34b/keras-self-attention-0.42.0.tar.gz\n",
            "Requirement already satisfied: numpy in /usr/local/lib/python3.6/dist-packages (from keras-self-attention) (1.17.4)\n",
            "Requirement already satisfied: Keras in /usr/local/lib/python3.6/dist-packages (from keras-self-attention) (2.2.5)\n",
            "Requirement already satisfied: h5py in /usr/local/lib/python3.6/dist-packages (from Keras->keras-self-attention) (2.8.0)\n",
            "Requirement already satisfied: six>=1.9.0 in /usr/local/lib/python3.6/dist-packages (from Keras->keras-self-attention) (1.12.0)\n",
            "Requirement already satisfied: scipy>=0.14 in /usr/local/lib/python3.6/dist-packages (from Keras->keras-self-attention) (1.3.3)\n",
            "Requirement already satisfied: keras-applications>=1.0.8 in /usr/local/lib/python3.6/dist-packages (from Keras->keras-self-attention) (1.0.8)\n",
            "Requirement already satisfied: pyyaml in /usr/local/lib/python3.6/dist-packages (from Keras->keras-self-attention) (3.13)\n",
            "Requirement already satisfied: keras-preprocessing>=1.1.0 in /usr/local/lib/python3.6/dist-packages (from Keras->keras-self-attention) (1.1.0)\n",
            "Building wheels for collected packages: keras-self-attention\n",
            "  Building wheel for keras-self-attention (setup.py) ... \u001b[?25l\u001b[?25hdone\n",
            "  Created wheel for keras-self-attention: filename=keras_self_attention-0.42.0-cp36-none-any.whl size=17296 sha256=88135bad2ce7a75065af651f03c7c452e3443d1df3a1160a1eff4cddf7e500a5\n",
            "  Stored in directory: /root/.cache/pip/wheels/7b/05/a0/99c0cf60d383f0494e10eca2b238ea98faca9a1fe03cac2894\n",
            "Successfully built keras-self-attention\n",
            "Installing collected packages: keras-self-attention\n",
            "Successfully installed keras-self-attention-0.42.0\n"
          ],
          "name": "stdout"
        }
      ]
    },
    {
      "cell_type": "code",
      "metadata": {
        "id": "PrIP3xmBM_ob",
        "colab_type": "code",
        "colab": {}
      },
      "source": [
        "import keras\n",
        "from keras.models import Sequential\n",
        "from keras.layers import Dense, Flatten\n",
        "from keras.layers.convolutional import Conv1D, Conv2D, MaxPooling1D, MaxPooling2D\n",
        "\n",
        "from keras_self_attention import SeqSelfAttention"
      ],
      "execution_count": 0,
      "outputs": []
    },
    {
      "cell_type": "code",
      "metadata": {
        "id": "bchQNAluzbgb",
        "colab_type": "code",
        "colab": {}
      },
      "source": [
        ""
      ],
      "execution_count": 0,
      "outputs": []
    },
    {
      "cell_type": "code",
      "metadata": {
        "id": "rYXCkbxOzbWO",
        "colab_type": "code",
        "colab": {}
      },
      "source": [
        ""
      ],
      "execution_count": 0,
      "outputs": []
    },
    {
      "cell_type": "code",
      "metadata": {
        "id": "880aA6M2zbN1",
        "colab_type": "code",
        "colab": {}
      },
      "source": [
        ""
      ],
      "execution_count": 0,
      "outputs": []
    },
    {
      "cell_type": "code",
      "metadata": {
        "id": "j6rGL_Eot_3z",
        "colab_type": "code",
        "colab": {}
      },
      "source": [
        "from keras.layers import LSTM, Bidirectional"
      ],
      "execution_count": 0,
      "outputs": []
    },
    {
      "cell_type": "code",
      "metadata": {
        "id": "srdglk5n21MC",
        "colab_type": "code",
        "colab": {}
      },
      "source": [
        ""
      ],
      "execution_count": 0,
      "outputs": []
    },
    {
      "cell_type": "code",
      "metadata": {
        "id": "Ac1e9TDHYNs4",
        "colab_type": "code",
        "colab": {}
      },
      "source": [
        "from keras import losses  "
      ],
      "execution_count": 0,
      "outputs": []
    },
    {
      "cell_type": "code",
      "metadata": {
        "id": "yHfUHR2WNzBx",
        "colab_type": "code",
        "colab": {}
      },
      "source": [
        "\n",
        "# n_output = y.shape[1] * y.shape[2]\n",
        "# y = y.reshape((y.shape[0], n_output))"
      ],
      "execution_count": 0,
      "outputs": []
    },
    {
      "cell_type": "code",
      "metadata": {
        "id": "80SDJqv1NKn9",
        "colab_type": "code",
        "outputId": "be795a54-b904-4e90-9ffa-1e74a7de9322",
        "colab": {
          "base_uri": "https://localhost:8080/",
          "height": 71
        }
      },
      "source": [
        "model = Sequential()\n",
        "model.add(Bidirectional(LSTM(64, return_sequences=True), input_shape=(55, 11)))\n",
        "model.add(SeqSelfAttention(attention_activation='sigmoid'))\n",
        "model.add(LSTM(32))\n",
        "\n",
        "\n",
        "# model.add(Conv2D(filters=32, kernel_size=3, activation='relu'))\n",
        "# model.add(MaxPooling1D(pool_size=10))\n",
        "# model.add(Flatten())\n",
        "# model.add(Dense(50, activation='relu'))\n",
        "# model.add(Dense(50, activation='relu'))\n",
        "model.add(Dense(5))\n",
        "model.compile(optimizer='adam', loss='mse', metrics=['accuracy'])"
      ],
      "execution_count": 63,
      "outputs": [
        {
          "output_type": "stream",
          "text": [
            "WARNING:tensorflow:From /usr/local/lib/python3.6/dist-packages/keras/backend/tensorflow_backend.py:4479: The name tf.truncated_normal is deprecated. Please use tf.random.truncated_normal instead.\n",
            "\n"
          ],
          "name": "stdout"
        }
      ]
    },
    {
      "cell_type": "code",
      "metadata": {
        "id": "eepaWdR5xvn4",
        "colab_type": "code",
        "colab": {}
      },
      "source": [
        "import tensorflow as tf\n"
      ],
      "execution_count": 0,
      "outputs": []
    },
    {
      "cell_type": "code",
      "metadata": {
        "id": "QWOb03AsNbI9",
        "colab_type": "code",
        "outputId": "b37a72b9-7f4e-481d-833b-8e3ef80a63fa",
        "colab": {
          "base_uri": "https://localhost:8080/",
          "height": 734
        }
      },
      "source": [
        "model.fit(X, y, epochs=20, verbose=1)"
      ],
      "execution_count": 65,
      "outputs": [
        {
          "output_type": "stream",
          "text": [
            "WARNING:tensorflow:From /usr/local/lib/python3.6/dist-packages/tensorflow_core/python/ops/math_grad.py:1424: where (from tensorflow.python.ops.array_ops) is deprecated and will be removed in a future version.\n",
            "Instructions for updating:\n",
            "Use tf.where in 2.0, which has the same broadcast rule as np.where\n",
            "WARNING:tensorflow:From /usr/local/lib/python3.6/dist-packages/keras/backend/tensorflow_backend.py:3005: The name tf.Session is deprecated. Please use tf.compat.v1.Session instead.\n",
            "\n",
            "Epoch 1/20\n",
            "WARNING:tensorflow:From /usr/local/lib/python3.6/dist-packages/keras/backend/tensorflow_backend.py:190: The name tf.get_default_session is deprecated. Please use tf.compat.v1.get_default_session instead.\n",
            "\n",
            "WARNING:tensorflow:From /usr/local/lib/python3.6/dist-packages/keras/backend/tensorflow_backend.py:207: The name tf.global_variables is deprecated. Please use tf.compat.v1.global_variables instead.\n",
            "\n",
            "WARNING:tensorflow:From /usr/local/lib/python3.6/dist-packages/keras/backend/tensorflow_backend.py:216: The name tf.is_variable_initialized is deprecated. Please use tf.compat.v1.is_variable_initialized instead.\n",
            "\n",
            "WARNING:tensorflow:From /usr/local/lib/python3.6/dist-packages/keras/backend/tensorflow_backend.py:223: The name tf.variables_initializer is deprecated. Please use tf.compat.v1.variables_initializer instead.\n",
            "\n",
            "142272/142272 [==============================] - 616s 4ms/step - loss: 0.2761 - acc: 0.2960\n",
            "Epoch 2/20\n",
            "142272/142272 [==============================] - 609s 4ms/step - loss: 0.1419 - acc: 0.3540\n",
            "Epoch 3/20\n",
            "142272/142272 [==============================] - 606s 4ms/step - loss: 0.1017 - acc: 0.3826\n",
            "Epoch 4/20\n",
            "142272/142272 [==============================] - 610s 4ms/step - loss: 0.0731 - acc: 0.4080\n",
            "Epoch 5/20\n",
            "142272/142272 [==============================] - 606s 4ms/step - loss: 0.0551 - acc: 0.4309\n",
            "Epoch 6/20\n",
            "142272/142272 [==============================] - 607s 4ms/step - loss: 0.0475 - acc: 0.4460\n",
            "Epoch 7/20\n",
            "142272/142272 [==============================] - 601s 4ms/step - loss: 0.0421 - acc: 0.4616\n",
            "Epoch 8/20\n",
            "142272/142272 [==============================] - 614s 4ms/step - loss: 0.0325 - acc: 0.4765\n",
            "Epoch 9/20\n",
            "142272/142272 [==============================] - 621s 4ms/step - loss: 0.0250 - acc: 0.4936\n",
            "Epoch 10/20\n",
            "142272/142272 [==============================] - 620s 4ms/step - loss: 0.0244 - acc: 0.5009\n",
            "Epoch 11/20\n",
            "142272/142272 [==============================] - 618s 4ms/step - loss: 0.0222 - acc: 0.5098\n",
            "Epoch 12/20\n",
            "142272/142272 [==============================] - 616s 4ms/step - loss: 0.0173 - acc: 0.5220\n",
            "Epoch 13/20\n",
            "142272/142272 [==============================] - 614s 4ms/step - loss: 0.0183 - acc: 0.5317\n",
            "Epoch 14/20\n",
            " 11008/142272 [=>............................] - ETA: 9:26 - loss: 0.0130 - acc: 0.5521Buffered data was truncated after reaching the output size limit."
          ],
          "name": "stdout"
        }
      ]
    },
    {
      "cell_type": "code",
      "metadata": {
        "id": "_wsVpvbZO-Rj",
        "colab_type": "code",
        "colab": {}
      },
      "source": [
        "lstm1 = model.history.history['loss']"
      ],
      "execution_count": 0,
      "outputs": []
    },
    {
      "cell_type": "code",
      "metadata": {
        "id": "L9aWg6ftDjFQ",
        "colab_type": "code",
        "outputId": "842be610-d6ac-4311-882c-a31ddb27fff8",
        "colab": {
          "base_uri": "https://localhost:8080/",
          "height": 357
        }
      },
      "source": [
        "lstm1"
      ],
      "execution_count": 67,
      "outputs": [
        {
          "output_type": "execute_result",
          "data": {
            "text/plain": [
              "[0.2761483661766745,\n",
              " 0.1418587450052013,\n",
              " 0.10165407178061292,\n",
              " 0.07313626466274556,\n",
              " 0.05510277742435347,\n",
              " 0.047460619443579266,\n",
              " 0.04206683933529609,\n",
              " 0.032464228191627066,\n",
              " 0.02495940464992433,\n",
              " 0.024350862581516627,\n",
              " 0.02222769063056601,\n",
              " 0.017330819407617902,\n",
              " 0.018346376157794324,\n",
              " 0.01872589628120404,\n",
              " 0.01510644116465319,\n",
              " 0.015514441122758833,\n",
              " 0.013404698775045564,\n",
              " 0.011038448772430034,\n",
              " 0.011121682818829042,\n",
              " 0.015611352995312444]"
            ]
          },
          "metadata": {
            "tags": []
          },
          "execution_count": 67
        }
      ]
    },
    {
      "cell_type": "code",
      "metadata": {
        "id": "HNDKjWifXeuD",
        "colab_type": "code",
        "outputId": "02f67310-924e-40a2-c820-d1235a6e0b49",
        "colab": {
          "base_uri": "https://localhost:8080/",
          "height": 265
        }
      },
      "source": [
        "plt.figure(figsize=(8,4))\n",
        "plt.xticks(np.arange(0,25,1))\n",
        "plt.plot(range(len(lstm1)),lstm1);"
      ],
      "execution_count": 68,
      "outputs": [
        {
          "output_type": "display_data",
          "data": {
            "image/png": "[encoded data removed]",
            "text/plain": [
              "<Figure size 576x288 with 1 Axes>"
            ]
          },
          "metadata": {
            "tags": []
          }
        }
      ]
    },
    {
      "cell_type": "code",
      "metadata": {
        "id": "JhIa-AuUXsId",
        "colab_type": "code",
        "colab": {}
      },
      "source": [
        " y_hat = model.predict(X)"
      ],
      "execution_count": 0,
      "outputs": []
    },
    {
      "cell_type": "code",
      "metadata": {
        "id": "qPuGdSOYcG2R",
        "colab_type": "code",
        "outputId": "71b28bdc-6eb3-4e04-e9fb-f09c5473fb40",
        "colab": {
          "base_uri": "https://localhost:8080/",
          "height": 34
        }
      },
      "source": [
        "y_hat[:, 0].shape"
      ],
      "execution_count": 70,
      "outputs": [
        {
          "output_type": "execute_result",
          "data": {
            "text/plain": [
              "(142272,)"
            ]
          },
          "metadata": {
            "tags": []
          },
          "execution_count": 70
        }
      ]
    },
    {
      "cell_type": "code",
      "metadata": {
        "id": "bL7KjI7HcKGz",
        "colab_type": "code",
        "outputId": "79f1332f-f202-4c3c-bf4c-616944d60d26",
        "colab": {
          "base_uri": "https://localhost:8080/",
          "height": 34
        }
      },
      "source": [
        "y[:, 0].shape"
      ],
      "execution_count": 71,
      "outputs": [
        {
          "output_type": "execute_result",
          "data": {
            "text/plain": [
              "(142272,)"
            ]
          },
          "metadata": {
            "tags": []
          },
          "execution_count": 71
        }
      ]
    },
    {
      "cell_type": "code",
      "metadata": {
        "id": "10QrDm9Rcq7c",
        "colab_type": "code",
        "outputId": "56287ef5-ad44-4092-a1b0-5d9d0adb3fcc",
        "colab": {
          "base_uri": "https://localhost:8080/",
          "height": 265
        }
      },
      "source": [
        "plt.plot(y[:500, 0], 'r-', label='actual')\n",
        "plt.plot(y_hat[:500, 0], 'b-', label='predicted')\n",
        "plt.legend()\n",
        "plt.show()"
      ],
      "execution_count": 72,
      "outputs": [
        {
          "output_type": "display_data",
          "data": {
            "image/png": "[encoded data removed]",
            "text/plain": [
              "<Figure size 432x288 with 1 Axes>"
            ]
          },
          "metadata": {
            "tags": []
          }
        }
      ]
    },
    {
      "cell_type": "code",
      "metadata": {
        "id": "4VxyXa6_dCSn",
        "colab_type": "code",
        "colab": {}
      },
      "source": [
        ""
      ],
      "execution_count": 0,
      "outputs": []
    },
    {
      "cell_type": "code",
      "metadata": {
        "id": "-8Vh3IrMdL_U",
        "colab_type": "code",
        "colab": {}
      },
      "source": [
        ""
      ],
      "execution_count": 0,
      "outputs": []
    },
    {
      "cell_type": "code",
      "metadata": {
        "id": "klfAmm_Z3lG7",
        "colab_type": "code",
        "colab": {}
      },
      "source": [
        ""
      ],
      "execution_count": 0,
      "outputs": []
    },
    {
      "cell_type": "code",
      "metadata": {
        "id": "0dz9yZ_U3lDw",
        "colab_type": "code",
        "colab": {}
      },
      "source": [
        ""
      ],
      "execution_count": 0,
      "outputs": []
    },
    {
      "cell_type": "code",
      "metadata": {
        "id": "QW16vpDt3lAo",
        "colab_type": "code",
        "colab": {}
      },
      "source": [
        ""
      ],
      "execution_count": 0,
      "outputs": []
    }
  ]
}